{
 "cells": [
  {
   "cell_type": "markdown",
   "metadata": {},
   "source": [
    "# CODING PROBABILITIES"
   ]
  },
  {
   "cell_type": "code",
   "execution_count": 2,
   "metadata": {},
   "outputs": [],
   "source": [
    "import numpy as np\n",
    "import pandas as pd\n",
    "from itertools import product"
   ]
  },
  {
   "cell_type": "markdown",
   "metadata": {},
   "source": [
    "### FORMULATING TURTH TABLES"
   ]
  },
  {
   "cell_type": "markdown",
   "metadata": {},
   "source": [
    "understanding how the product function works i give the example....\n"
   ]
  },
  {
   "cell_type": "code",
   "execution_count": 3,
   "metadata": {},
   "outputs": [
    {
     "data": {
      "text/plain": [
       "[(1, 'a'), (1, 'b'), (1, 'c'), (2, 'a'), (2, 'b'), (2, 'c')]"
      ]
     },
     "execution_count": 3,
     "metadata": {},
     "output_type": "execute_result"
    }
   ],
   "source": [
    "list(product([1,2],['a','b','c']))"
   ]
  },
  {
   "cell_type": "markdown",
   "metadata": {},
   "source": [
    "using this logic in creating truth tables for coin flips just like the image below"
   ]
  },
  {
   "cell_type": "markdown",
   "metadata": {},
   "source": [
    "<img src=https://miro.medium.com/max/1400/1*PH28tVVTRTCEQeoHOVrWhQ@2x.jpeg width=300>"
   ]
  },
  {
   "cell_type": "code",
   "execution_count": 4,
   "metadata": {},
   "outputs": [],
   "source": [
    "n = 3 # number of coin flips\n",
    "coin_flip = set(product(['H','T'], repeat = n))"
   ]
  },
  {
   "cell_type": "code",
   "execution_count": 5,
   "metadata": {},
   "outputs": [
    {
     "data": {
      "text/plain": [
       "{('H', 'H', 'H'),\n",
       " ('H', 'H', 'T'),\n",
       " ('H', 'T', 'H'),\n",
       " ('H', 'T', 'T'),\n",
       " ('T', 'H', 'H'),\n",
       " ('T', 'H', 'T'),\n",
       " ('T', 'T', 'H'),\n",
       " ('T', 'T', 'T')}"
      ]
     },
     "execution_count": 5,
     "metadata": {},
     "output_type": "execute_result"
    }
   ],
   "source": [
    "coin_flip"
   ]
  },
  {
   "cell_type": "markdown",
   "metadata": {},
   "source": [
    "from the coin_flip set we can now call out the categories we did like to have, such as\n",
    "coin_flips with one T i.e tail"
   ]
  },
  {
   "cell_type": "code",
   "execution_count": 6,
   "metadata": {},
   "outputs": [
    {
     "data": {
      "text/plain": [
       "{('H', 'H', 'T'), ('H', 'T', 'H'), ('T', 'H', 'H')}"
      ]
     },
     "execution_count": 6,
     "metadata": {},
     "output_type": "execute_result"
    }
   ],
   "source": [
    "one_tail = { flip for flip in coin_flip if flip.count('T') == 1}\n",
    "one_tail"
   ]
  },
  {
   "cell_type": "markdown",
   "metadata": {},
   "source": [
    "using the len function to get the number of category flips with one tail\n",
    "i.e number of items in set one_tail"
   ]
  },
  {
   "cell_type": "code",
   "execution_count": 7,
   "metadata": {},
   "outputs": [
    {
     "data": {
      "text/plain": [
       "3"
      ]
     },
     "execution_count": 7,
     "metadata": {},
     "output_type": "execute_result"
    }
   ],
   "source": [
    "len(one_tail)"
   ]
  },
  {
   "cell_type": "code",
   "execution_count": 8,
   "metadata": {},
   "outputs": [
    {
     "data": {
      "text/plain": [
       "8"
      ]
     },
     "execution_count": 8,
     "metadata": {},
     "output_type": "execute_result"
    }
   ],
   "source": [
    "#computing the number of items in the set coin_flip\n",
    "len(coin_flip)"
   ]
  },
  {
   "cell_type": "markdown",
   "metadata": {},
   "source": [
    "one could use this to compute a probability of having one tail during 3 coin flips"
   ]
  },
  {
   "cell_type": "code",
   "execution_count": 9,
   "metadata": {},
   "outputs": [
    {
     "data": {
      "text/plain": [
       "0.375"
      ]
     },
     "execution_count": 9,
     "metadata": {},
     "output_type": "execute_result"
    }
   ],
   "source": [
    "len(one_tail)/len(coin_flip)"
   ]
  },
  {
   "cell_type": "markdown",
   "metadata": {},
   "source": [
    "from the coin_flip set we can also call out the categories we did like to have, such as coin_flips with a first result of T i.e tail"
   ]
  },
  {
   "cell_type": "code",
   "execution_count": 10,
   "metadata": {},
   "outputs": [
    {
     "data": {
      "text/plain": [
       "{('T', 'H', 'H'), ('T', 'H', 'T'), ('T', 'T', 'H'), ('T', 'T', 'T')}"
      ]
     },
     "execution_count": 10,
     "metadata": {},
     "output_type": "execute_result"
    }
   ],
   "source": [
    "first_is_tail = { first for first in coin_flip if first[0]=='T'}\n",
    "first_is_tail"
   ]
  },
  {
   "cell_type": "markdown",
   "metadata": {},
   "source": [
    "### BUILDING PROBABILITY FUNCTION "
   ]
  },
  {
   "cell_type": "code",
   "execution_count": 11,
   "metadata": {},
   "outputs": [
    {
     "data": {
      "text/plain": [
       "0.3"
      ]
     },
     "execution_count": 11,
     "metadata": {},
     "output_type": "execute_result"
    }
   ],
   "source": [
    "# function for probability\n",
    "def f(p):\n",
    "    return p;\n",
    "\n",
    "f(0.3)"
   ]
  },
  {
   "cell_type": "code",
   "execution_count": 12,
   "metadata": {},
   "outputs": [
    {
     "data": {
      "text/plain": [
       "0.7"
      ]
     },
     "execution_count": 12,
     "metadata": {},
     "output_type": "execute_result"
    }
   ],
   "source": [
    "# function for an inverse probability \n",
    "def i_f(p):\n",
    "    return 1-p;\n",
    "\n",
    "i_f(0.3)"
   ]
  },
  {
   "cell_type": "code",
   "execution_count": 13,
   "metadata": {},
   "outputs": [
    {
     "data": {
      "text/plain": [
       "0.09"
      ]
     },
     "execution_count": 13,
     "metadata": {},
     "output_type": "execute_result"
    }
   ],
   "source": [
    "# suppose we have a coin with a probability p = 0.5. and its flipped twice\n",
    "# i.e p(H,H) whereby we have heads 2 times \n",
    "\n",
    "def f(p):\n",
    "    return p * p;\n",
    "\n",
    "f(0.3)"
   ]
  },
  {
   "cell_type": "code",
   "execution_count": 14,
   "metadata": {},
   "outputs": [
    {
     "name": "stdout",
     "output_type": "stream",
     "text": [
      "0.375\n",
      "\n",
      " 0.375 using truth table.\n"
     ]
    }
   ],
   "source": [
    "# probability of having a head is 0.5, now we want to flip the coin three times\n",
    "# calculate the probability that heads comes up exactly once\n",
    "\n",
    "def f(p):\n",
    "    q = 1-p\n",
    "    return 3 * p * q * q;\n",
    "\n",
    "print(f(0.5))  #testing \n",
    "\n",
    "# notice that this above result gives the dame result has our previous test using truth table\n",
    "\n",
    "# one could use this to compute a probability of having one tail during 3 coin flips\n",
    "print('\\n {} using truth table.'.format(len(one_tail)/len(coin_flip)))"
   ]
  },
  {
   "cell_type": "code",
   "execution_count": 15,
   "metadata": {},
   "outputs": [
    {
     "data": {
      "text/plain": [
       "0.4"
      ]
     },
     "execution_count": 15,
     "metadata": {},
     "output_type": "execute_result"
    }
   ],
   "source": [
    "#Return the probability of flipping one head each from two coins\n",
    "#One coin has a probability of heads of p1 and the other of p2\n",
    "\n",
    "def f(p1,p2):\n",
    "    return p1 * p2;\n",
    "f(0.5,0.8)"
   ]
  },
  {
   "cell_type": "code",
   "execution_count": 16,
   "metadata": {},
   "outputs": [
    {
     "data": {
      "text/plain": [
       "0.78"
      ]
     },
     "execution_count": 16,
     "metadata": {},
     "output_type": "execute_result"
    }
   ],
   "source": [
    "#Two coins have probabilities of heads of p1 andd p2\n",
    "#The probability of selecting the first coin is p0\n",
    "#Return the probability of a flip landing on heads\n",
    "\n",
    "def f(p0,p1,p2):\n",
    "    c1 = p0\n",
    "    c2 = 1-p0\n",
    "    return (c1 * p1) + (c2 * p2);\n",
    "\n",
    "f(0.3,0.5,0.9)"
   ]
  },
  {
   "cell_type": "markdown",
   "metadata": {},
   "source": [
    "### CONDITIONAL PROBABILITIES AND BAYES RULE"
   ]
  },
  {
   "cell_type": "code",
   "execution_count": 17,
   "metadata": {},
   "outputs": [
    {
     "data": {
      "text/plain": [
       "0.26999999999999996"
      ]
     },
     "execution_count": 17,
     "metadata": {},
     "output_type": "execute_result"
    }
   ],
   "source": [
    "#Calculate the probability of a positive result given that\n",
    "#p0=P(C)\n",
    "#p1=P(Positive|C)\n",
    "#p2=P(Negative|Not C)\n",
    "# i.e finding p(pos)\n",
    "def f(p0,p1,p2):\n",
    "    c = p0 \n",
    "    oc = 1 - p0\n",
    "    pos_c = p1\n",
    "    neg_c = 1-p1\n",
    "    neg_oc = p2\n",
    "    pos_oc = 1 - p2\n",
    "    return (pos_c * c) + (pos_oc * oc);\n",
    "\n",
    "f(0.1,0.9,0.8)"
   ]
  },
  {
   "cell_type": "code",
   "execution_count": 18,
   "metadata": {},
   "outputs": [
    {
     "data": {
      "text/plain": [
       "0.3333333333333334"
      ]
     },
     "execution_count": 18,
     "metadata": {},
     "output_type": "execute_result"
    }
   ],
   "source": [
    "#Return the probability of A conditioned on B given that \n",
    "#P(A)=p0, P(B|A)=p1, and P(Not B|Not A)=p2 \n",
    "# i.e this is finding the posterior probability of the p(c|pos)\n",
    "def f(p0,p1,p2):\n",
    "    c = p0 \n",
    "    oc = 1 - p0\n",
    "    pos_c = p1\n",
    "    neg_c = 1-p1\n",
    "    neg_oc = p2\n",
    "    pos_oc = 1 - p2\n",
    "    return (pos_c * c)/((pos_c * c) + (pos_oc * oc));\n",
    "\n",
    "f(0.1,0.9,0.8)"
   ]
  },
  {
   "cell_type": "code",
   "execution_count": 19,
   "metadata": {},
   "outputs": [
    {
     "data": {
      "text/plain": [
       "0.013698630136986297"
      ]
     },
     "execution_count": 19,
     "metadata": {},
     "output_type": "execute_result"
    }
   ],
   "source": [
    "# i.e this is finding the posterior probability of the p(c|neg)\n",
    "def f(p0,p1,p2):\n",
    "    c = p0 \n",
    "    oc = 1 - p0\n",
    "    pos_c = p1\n",
    "    neg_c = 1-p1\n",
    "    neg_oc = p2\n",
    "    pos_oc = 1 - p2\n",
    "    return (neg_c * c)/((neg_c * c) + (neg_oc * oc));\n",
    "\n",
    "f(0.1,0.9,0.8)"
   ]
  },
  {
   "cell_type": "code",
   "execution_count": 20,
   "metadata": {},
   "outputs": [],
   "source": [
    "coin_flipr = set(product([0.3,0.7], repeat = n)) # a case where we have probability of head to be 0.3 and tail to be 0.7"
   ]
  },
  {
   "cell_type": "code",
   "execution_count": 21,
   "metadata": {},
   "outputs": [
    {
     "data": {
      "text/plain": [
       "{(0.3, 0.3, 0.3),\n",
       " (0.3, 0.3, 0.7),\n",
       " (0.3, 0.7, 0.3),\n",
       " (0.3, 0.7, 0.7),\n",
       " (0.7, 0.3, 0.3),\n",
       " (0.7, 0.3, 0.7),\n",
       " (0.7, 0.7, 0.3),\n",
       " (0.7, 0.7, 0.7)}"
      ]
     },
     "execution_count": 21,
     "metadata": {},
     "output_type": "execute_result"
    }
   ],
   "source": [
    "coin_flipr"
   ]
  },
  {
   "cell_type": "code",
   "execution_count": 22,
   "metadata": {},
   "outputs": [
    {
     "name": "stdout",
     "output_type": "stream",
     "text": [
      "0.25\n",
      "\n",
      "\n",
      "0.25\n"
     ]
    }
   ],
   "source": [
    "#what is the probability of having 2 heads when you flip a coin twice? assume p(H) = 0.5 (fair coin)\n",
    "\n",
    "#using the probability function method\n",
    "def f(p):\n",
    "    return p*p;\n",
    "\n",
    "print(f(0.5))\n",
    "\n",
    "\n",
    "#using the truth table method\n",
    "n = 2\n",
    "two_coin_flips = set(product(['H','T'], repeat = n))\n",
    "\n",
    "having_2_heads = {head for head in two_coin_flips if head.count('H')==2}\n",
    "print('\\n')\n",
    "print(len(having_2_heads)/len(two_coin_flips))"
   ]
  },
  {
   "cell_type": "code",
   "execution_count": 23,
   "metadata": {},
   "outputs": [
    {
     "name": "stdout",
     "output_type": "stream",
     "text": [
      "0.36\n"
     ]
    }
   ],
   "source": [
    "#what is the probability of having 2 heads when you flip a coin twice? assume p(H) = 0.6 (loaded coin)\n",
    "\n",
    "#using the probability function method\n",
    "\n",
    "def f(p):\n",
    "    return p*p;\n",
    "\n",
    "print(f(0.6))"
   ]
  },
  {
   "cell_type": "code",
   "execution_count": 24,
   "metadata": {},
   "outputs": [
    {
     "name": "stdout",
     "output_type": "stream",
     "text": [
      "\n",
      "\n",
      "0.25\n"
     ]
    }
   ],
   "source": [
    "#using the truth table method\n",
    "n = 2\n",
    "two_coin_flips = set(product([0.6,0.4], repeat = n))\n",
    "\n",
    "having_2_heads = {head for head in two_coin_flips if head.count(0.6)==2}\n",
    "print('\\n')\n",
    "print(len(having_2_heads)/len(two_coin_flips))"
   ]
  },
  {
   "cell_type": "markdown",
   "metadata": {},
   "source": [
    "we see that it fails in the case of a loaded coin but probably can we could figure out a way out, if possible"
   ]
  },
  {
   "cell_type": "markdown",
   "metadata": {},
   "source": [
    "but it is to be noted that the truth table can well be used in identifying sets and then computing the length of the set\n",
    "then using the result in the probability function method, for loaded coins also\n",
    "combining the two would give a more robust function"
   ]
  },
  {
   "cell_type": "code",
   "execution_count": 25,
   "metadata": {},
   "outputs": [
    {
     "name": "stdout",
     "output_type": "stream",
     "text": [
      "0.375\n"
     ]
    }
   ],
   "source": [
    "# probability of having a head is 0.5, now we want to flip the coin three times\n",
    "# calculate the probability that heads comes up exactly once\n",
    "\n",
    "def f(n,p,x):\n",
    "    coin_flips = set(product(['H','T'], repeat=n))\n",
    "    i = len({flip for flip in coin_flips if flip.count('H')==x})\n",
    "    q = 1-p\n",
    "    return i * p * q * q;\n",
    "\n",
    "print(f(3,0.5,1))  #testing"
   ]
  },
  {
   "cell_type": "code",
   "execution_count": 26,
   "metadata": {},
   "outputs": [
    {
     "data": {
      "text/plain": [
       "0.36"
      ]
     },
     "execution_count": 26,
     "metadata": {},
     "output_type": "execute_result"
    }
   ],
   "source": [
    "#now we try the previous question asked where our truth table method failed, using out abpve function\n",
    "\n",
    "#what is the probability of having 2 heads when you flip a coin twice? assume p(H) = 0.6 (loaded coin)\n",
    "\n",
    "def f(n,p,x):\n",
    "    coin_flips = set(product(['H','T'], repeat=n))\n",
    "    i = len({flip for flip in coin_flips if flip.count('H')==x})\n",
    "    q = 1-p\n",
    "    return i * p * p;\n",
    "\n",
    "f(2,0.6,2)"
   ]
  },
  {
   "cell_type": "code",
   "execution_count": 27,
   "metadata": {},
   "outputs": [],
   "source": [
    "# USING A TRUTH TABLE IS MUCH USEFUL WHEN ENCOUNTERING A LARGE SET SUCH AS 5 AND ABOVE COIN FLIPS "
   ]
  },
  {
   "cell_type": "code",
   "execution_count": 28,
   "metadata": {},
   "outputs": [],
   "source": [
    "large_flips = set(product(['H','T'], repeat = 6))"
   ]
  },
  {
   "cell_type": "code",
   "execution_count": 29,
   "metadata": {},
   "outputs": [
    {
     "data": {
      "text/plain": [
       "{('H', 'H', 'H', 'H', 'H', 'H'),\n",
       " ('H', 'H', 'H', 'H', 'H', 'T'),\n",
       " ('H', 'H', 'H', 'H', 'T', 'H'),\n",
       " ('H', 'H', 'H', 'H', 'T', 'T'),\n",
       " ('H', 'H', 'H', 'T', 'H', 'H'),\n",
       " ('H', 'H', 'H', 'T', 'H', 'T'),\n",
       " ('H', 'H', 'H', 'T', 'T', 'H'),\n",
       " ('H', 'H', 'H', 'T', 'T', 'T'),\n",
       " ('H', 'H', 'T', 'H', 'H', 'H'),\n",
       " ('H', 'H', 'T', 'H', 'H', 'T'),\n",
       " ('H', 'H', 'T', 'H', 'T', 'H'),\n",
       " ('H', 'H', 'T', 'H', 'T', 'T'),\n",
       " ('H', 'H', 'T', 'T', 'H', 'H'),\n",
       " ('H', 'H', 'T', 'T', 'H', 'T'),\n",
       " ('H', 'H', 'T', 'T', 'T', 'H'),\n",
       " ('H', 'H', 'T', 'T', 'T', 'T'),\n",
       " ('H', 'T', 'H', 'H', 'H', 'H'),\n",
       " ('H', 'T', 'H', 'H', 'H', 'T'),\n",
       " ('H', 'T', 'H', 'H', 'T', 'H'),\n",
       " ('H', 'T', 'H', 'H', 'T', 'T'),\n",
       " ('H', 'T', 'H', 'T', 'H', 'H'),\n",
       " ('H', 'T', 'H', 'T', 'H', 'T'),\n",
       " ('H', 'T', 'H', 'T', 'T', 'H'),\n",
       " ('H', 'T', 'H', 'T', 'T', 'T'),\n",
       " ('H', 'T', 'T', 'H', 'H', 'H'),\n",
       " ('H', 'T', 'T', 'H', 'H', 'T'),\n",
       " ('H', 'T', 'T', 'H', 'T', 'H'),\n",
       " ('H', 'T', 'T', 'H', 'T', 'T'),\n",
       " ('H', 'T', 'T', 'T', 'H', 'H'),\n",
       " ('H', 'T', 'T', 'T', 'H', 'T'),\n",
       " ('H', 'T', 'T', 'T', 'T', 'H'),\n",
       " ('H', 'T', 'T', 'T', 'T', 'T'),\n",
       " ('T', 'H', 'H', 'H', 'H', 'H'),\n",
       " ('T', 'H', 'H', 'H', 'H', 'T'),\n",
       " ('T', 'H', 'H', 'H', 'T', 'H'),\n",
       " ('T', 'H', 'H', 'H', 'T', 'T'),\n",
       " ('T', 'H', 'H', 'T', 'H', 'H'),\n",
       " ('T', 'H', 'H', 'T', 'H', 'T'),\n",
       " ('T', 'H', 'H', 'T', 'T', 'H'),\n",
       " ('T', 'H', 'H', 'T', 'T', 'T'),\n",
       " ('T', 'H', 'T', 'H', 'H', 'H'),\n",
       " ('T', 'H', 'T', 'H', 'H', 'T'),\n",
       " ('T', 'H', 'T', 'H', 'T', 'H'),\n",
       " ('T', 'H', 'T', 'H', 'T', 'T'),\n",
       " ('T', 'H', 'T', 'T', 'H', 'H'),\n",
       " ('T', 'H', 'T', 'T', 'H', 'T'),\n",
       " ('T', 'H', 'T', 'T', 'T', 'H'),\n",
       " ('T', 'H', 'T', 'T', 'T', 'T'),\n",
       " ('T', 'T', 'H', 'H', 'H', 'H'),\n",
       " ('T', 'T', 'H', 'H', 'H', 'T'),\n",
       " ('T', 'T', 'H', 'H', 'T', 'H'),\n",
       " ('T', 'T', 'H', 'H', 'T', 'T'),\n",
       " ('T', 'T', 'H', 'T', 'H', 'H'),\n",
       " ('T', 'T', 'H', 'T', 'H', 'T'),\n",
       " ('T', 'T', 'H', 'T', 'T', 'H'),\n",
       " ('T', 'T', 'H', 'T', 'T', 'T'),\n",
       " ('T', 'T', 'T', 'H', 'H', 'H'),\n",
       " ('T', 'T', 'T', 'H', 'H', 'T'),\n",
       " ('T', 'T', 'T', 'H', 'T', 'H'),\n",
       " ('T', 'T', 'T', 'H', 'T', 'T'),\n",
       " ('T', 'T', 'T', 'T', 'H', 'H'),\n",
       " ('T', 'T', 'T', 'T', 'H', 'T'),\n",
       " ('T', 'T', 'T', 'T', 'T', 'H'),\n",
       " ('T', 'T', 'T', 'T', 'T', 'T')}"
      ]
     },
     "execution_count": 29,
     "metadata": {},
     "output_type": "execute_result"
    }
   ],
   "source": [
    "large_flips"
   ]
  },
  {
   "cell_type": "code",
   "execution_count": 30,
   "metadata": {},
   "outputs": [
    {
     "data": {
      "text/plain": [
       "20"
      ]
     },
     "execution_count": 30,
     "metadata": {},
     "output_type": "execute_result"
    }
   ],
   "source": [
    "having_3_heads = { head for head in large_flips if head.count('H')==3}\n",
    "\n",
    "len(having_3_heads)"
   ]
  },
  {
   "cell_type": "code",
   "execution_count": 31,
   "metadata": {},
   "outputs": [
    {
     "data": {
      "text/plain": [
       "0.3125"
      ]
     },
     "execution_count": 31,
     "metadata": {},
     "output_type": "execute_result"
    }
   ],
   "source": [
    "# probability of having 3 heads\n",
    "len(having_3_heads)/len(large_flips)"
   ]
  }
 ],
 "metadata": {
  "kernelspec": {
   "display_name": "Python 3",
   "language": "python",
   "name": "python3"
  },
  "language_info": {
   "codemirror_mode": {
    "name": "ipython",
    "version": 3
   },
   "file_extension": ".py",
   "mimetype": "text/x-python",
   "name": "python",
   "nbconvert_exporter": "python",
   "pygments_lexer": "ipython3",
   "version": "3.8.5"
  }
 },
 "nbformat": 4,
 "nbformat_minor": 4
}
